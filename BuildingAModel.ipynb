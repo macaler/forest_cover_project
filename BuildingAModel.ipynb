{
 "cells": [
  {
   "cell_type": "markdown",
   "metadata": {},
   "source": [
    "This file should contain the data scaling, train/test/split, and model building cells. It should output the fitted model to file.<br>\n",
    "Obvy it's going to need to read in the data, too, but nothing more complicated than that.<br>\n",
    "\n",
    "actually hang on<br>\n",
    "\n",
    "make the whole data preprocessing bit a big ol' function <br>\n",
    "stuff that in its own file<br>\n",
    "import it into model building and model evaluation files<br>\n",
    "\n",
    "then make the actual model building one file<br>\n",
    "make sure you can do more than 1 callback to a model.fit ... pretty sure I can as long as I pass a list ...<br>\n",
    "save the model to a file<br>\n",
    "save the history log to a file<br>\n",
    "\n",
    "then make sure you call the data preprocessing function in the model evaluation file<br>\n",
    "read in the history log<br>"
   ]
  },
  {
   "cell_type": "code",
   "execution_count": 1,
   "metadata": {},
   "outputs": [],
   "source": [
    "# Import analysis packages:\n",
    "import pandas as pd\n",
    "import numpy as np\n",
    "\n",
    "import random"
   ]
  },
  {
   "cell_type": "code",
   "execution_count": 2,
   "metadata": {},
   "outputs": [],
   "source": [
    "from DataPreprocessing import output_train_test_data"
   ]
  },
  {
   "cell_type": "code",
   "execution_count": 3,
   "metadata": {},
   "outputs": [],
   "source": [
    "''' I noticed that I was getting several warnings when compiling TensorFlow regarding appropriate\n",
    "compiler flags; apparently, I'm not the only one, as evidenced by the following question from\n",
    "stackoverflow:\n",
    "https://stackoverflow.com/questions/66092421/how-to-rebuild-tensorflow-with-the-compiler-flags\n",
    "I have chosen to implement the commenter's solution.'''\n",
    "import os\n",
    "os.environ['TF_CPP_MIN_LOG_LEVEL'] = '2'"
   ]
  },
  {
   "cell_type": "code",
   "execution_count": 4,
   "metadata": {},
   "outputs": [],
   "source": [
    "import tensorflow as tf\n",
    "from tensorflow import keras\n",
    "from tensorflow.keras.utils import to_categorical\n",
    "from tensorflow.keras.models import Sequential, save_model\n",
    "from tensorflow.keras.callbacks import EarlyStopping, CSVLogger\n",
    "from tensorflow.keras.layers import InputLayer, Dense, Dropout\n",
    "from tensorflow.keras.optimizers import Adam\n",
    "from tensorflow.keras.metrics import Accuracy, Precision, Recall"
   ]
  },
  {
   "cell_type": "code",
   "execution_count": 5,
   "metadata": {},
   "outputs": [],
   "source": [
    "# The below is necessary for starting core Python generated random numbers\n",
    "# in a well-defined state.\n",
    "random.seed(11)\n",
    "\n",
    "# The below is necessary for starting Numpy generated random numbers\n",
    "# in a well-defined initial state.\n",
    "np.random.seed(11)\n",
    "\n",
    "# The below set_seed() will make random number generation\n",
    "# in the TensorFlow backend have a well-defined initial state.\n",
    "# For further details, see:\n",
    "# https://www.tensorflow.org/api_docs/python/tf/random/set_seed\n",
    "tf.random.set_seed(11)"
   ]
  },
  {
   "cell_type": "markdown",
   "metadata": {},
   "source": [
    "# Data PreProcessing"
   ]
  },
  {
   "cell_type": "code",
   "execution_count": 6,
   "metadata": {},
   "outputs": [
    {
     "name": "stdout",
     "output_type": "stream",
     "text": [
      "Proportion of Data Points per Class, Full Data Set:\n",
      "2    0.4876\n",
      "1    0.3646\n",
      "3    0.0615\n",
      "7    0.0353\n",
      "6    0.0299\n",
      "5    0.0163\n",
      "4    0.0047\n",
      "Name: class, dtype: float64\n",
      "\n",
      "Proportion of Data Points per Class, Training Data Subset:\n",
      "2    0.4876\n",
      "1    0.3646\n",
      "3    0.0615\n",
      "7    0.0353\n",
      "6    0.0299\n",
      "5    0.0163\n",
      "4    0.0047\n",
      "Name: class, dtype: float64\n",
      "\n",
      "Proportion of Data Points per Class, Validation Data Subset:\n",
      "2    0.4876\n",
      "1    0.3646\n",
      "3    0.0615\n",
      "7    0.0353\n",
      "6    0.0299\n",
      "5    0.0163\n",
      "4    0.0047\n",
      "Name: class, dtype: float64\n",
      "\n",
      "Proportion of Data Points per Class, Test Data Subset:\n",
      "2    0.4876\n",
      "1    0.3646\n",
      "3    0.0615\n",
      "7    0.0353\n",
      "6    0.0299\n",
      "5    0.0163\n",
      "4    0.0047\n",
      "Name: class, dtype: float64\n",
      "Training Data and Labels Shapes:\n",
      "(406708, 53) (406708, 7)\n",
      "\n",
      "Validation Data and Labels Shapes:\n",
      "(87152, 53) (87152, 7)\n",
      "\n",
      "Test Data and Labels Shapes:\n",
      "(87152, 53) (87152, 7)\n"
     ]
    }
   ],
   "source": [
    "scaled_training_data, training_labels, scaled_valid_data, valid_labels, \\\n",
    "     scaled_test_data, test_labels = output_train_test_data()"
   ]
  },
  {
   "cell_type": "markdown",
   "metadata": {},
   "source": [
    "# Building a model"
   ]
  },
  {
   "cell_type": "code",
   "execution_count": 7,
   "metadata": {},
   "outputs": [],
   "source": [
    "def build_a_model(xs):\n",
    "    \n",
    "    nvars = xs.shape[1]\n",
    "\n",
    "    thismodel = Sequential()\n",
    "    thismodel.add(InputLayer(input_shape=(nvars,)))\n",
    "    thismodel.add(Dense(512, activation='relu'))\n",
    "    thismodel.add(Dropout(0.01))\n",
    "    thismodel.add(Dense(256, activation='relu'))\n",
    "    thismodel.add(Dropout(0.01))\n",
    "    thismodel.add(Dense(128, activation='relu'))\n",
    "    thismodel.add(Dropout(0.01))\n",
    "    thismodel.add(Dense(64, activation='relu'))\n",
    "    thismodel.add(Dropout(0.01))\n",
    "    thismodel.add(Dense(32, activation='relu'))\n",
    "    thismodel.add(Dropout(0.001))\n",
    "    thismodel.add(Dense(16, activation='relu'))\n",
    "    thismodel.add(Dropout(0.01))\n",
    "    thismodel.add(Dense(7, activation='softmax'))\n",
    "    thisoptimizer = Adam(learning_rate=0.005)  \n",
    "    thismodel.compile(loss='CategoricalCrossentropy',  metrics=['accuracy','Precision','Recall'], \\\n",
    "                      optimizer=thisoptimizer)\n",
    "    \n",
    "    return thismodel"
   ]
  },
  {
   "cell_type": "code",
   "execution_count": 8,
   "metadata": {},
   "outputs": [],
   "source": [
    "earliestop = EarlyStopping(monitor='val_loss', mode='min', verbose=1, patience=40)\n",
    "\n",
    "# dis from \n",
    "# https://stackoverflow.com/questions/47843265/how-can-i-get-a-keras-models-history-after-loading-it-from-a-file-in-python\n",
    "historylogger = CSVLogger('nn_model_history.log', separator=',', append=False)"
   ]
  },
  {
   "cell_type": "code",
   "execution_count": 9,
   "metadata": {},
   "outputs": [],
   "source": [
    "nn_model = build_a_model(scaled_training_data)"
   ]
  },
  {
   "cell_type": "code",
   "execution_count": 10,
   "metadata": {},
   "outputs": [
    {
     "name": "stdout",
     "output_type": "stream",
     "text": [
      "Epoch 00249: early stopping\n"
     ]
    }
   ],
   "source": [
    "model_history = nn_model.fit(scaled_training_data, training_labels, \\\n",
    "                             validation_data = (scaled_valid_data,valid_labels), \\\n",
    "                             shuffle = False, epochs = 310, batch_size = 800, \\\n",
    "                             callbacks=[earliestop,historylogger], verbose = 0)"
   ]
  },
  {
   "cell_type": "code",
   "execution_count": 11,
   "metadata": {},
   "outputs": [
    {
     "name": "stdout",
     "output_type": "stream",
     "text": [
      "INFO:tensorflow:Assets written to: cover_model_MAC\\assets\n"
     ]
    }
   ],
   "source": [
    "nn_model.save(\"cover_model_MAC\")"
   ]
  }
 ],
 "metadata": {
  "kernelspec": {
   "display_name": "Python 3",
   "language": "python",
   "name": "python3"
  },
  "language_info": {
   "codemirror_mode": {
    "name": "ipython",
    "version": 3
   },
   "file_extension": ".py",
   "mimetype": "text/x-python",
   "name": "python",
   "nbconvert_exporter": "python",
   "pygments_lexer": "ipython3",
   "version": "3.8.3"
  }
 },
 "nbformat": 4,
 "nbformat_minor": 4
}
